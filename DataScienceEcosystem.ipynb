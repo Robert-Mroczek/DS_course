{
 "cells": [
  {
   "cell_type": "markdown",
   "id": "6dd64e8c-769a-49f0-95db-e1afbe95cf2a",
   "metadata": {},
   "source": [
    "# Data Science Tools and Ecosystem"
   ]
  },
  {
   "cell_type": "markdown",
   "id": "8b059dee-e8db-4d31-8a01-23626f91e719",
   "metadata": {},
   "source": [
    "In this notebook, Data Science Tools and Ecosystem are summarized."
   ]
  },
  {
   "cell_type": "markdown",
   "id": "52fdbccc-9094-4d03-9b99-8b624f5381d7",
   "metadata": {},
   "source": [
    "**Objectives:**\n",
    "- List popular languages\n",
    "- List populat libraries\n",
    "- List data science tools\n",
    "- Explain version control and describe the Git and GitHub environment.\n",
    "- Describe the purpose of source repositories and explain how GitHub satisfies the needs of a source repository."
   ]
  },
  {
   "cell_type": "markdown",
   "id": "1a314921-2cdd-4ab0-babd-b41ffa5bf66f",
   "metadata": {},
   "source": [
    "Some of the popular languages that Data Scientists use are:\n",
    "1. Python\n",
    "2. R\n",
    "3. SQL \n",
    "4. SCALA\n",
    "5. C++ \n",
    "6. JS"
   ]
  },
  {
   "cell_type": "markdown",
   "id": "289754e2-52cf-4146-b8ff-88053f9e89d6",
   "metadata": {},
   "source": [
    "Some of the commonly used libraries used by Data Scientists include:\n",
    "\n",
    "1. Pandas\n",
    "2. ggplot\n",
    "3. Scikit learn\n",
    "4. Matplotlib"
   ]
  },
  {
   "cell_type": "markdown",
   "id": "6ce462c0-1b6d-4e05-a3c9-db9954fedfd6",
   "metadata": {},
   "source": [
    "Data Science Tools|\n",
    "------------------|\n",
    "Github|\n",
    "Git|\n",
    "Gitlab| \n",
    "Bitbucket|\n"
   ]
  },
  {
   "cell_type": "markdown",
   "id": "2350363c-e85d-4f4b-88d9-edfd5772c483",
   "metadata": {},
   "source": [
    "### Below are a few examples of evaluating arithmetic expressions in Python"
   ]
  },
  {
   "cell_type": "code",
   "execution_count": 1,
   "id": "2fdf5244-6e77-40f4-9323-b1601ecc1ac1",
   "metadata": {
    "tags": []
   },
   "outputs": [
    {
     "data": {
      "text/plain": [
       "17"
      ]
     },
     "execution_count": 1,
     "metadata": {},
     "output_type": "execute_result"
    }
   ],
   "source": [
    "#This a simple arithmetic expression to mutiply then add integers\n",
    "(3*4)+5"
   ]
  },
  {
   "cell_type": "code",
   "execution_count": 3,
   "id": "2ff031f6-06d8-4fd6-92a5-d640c4fd2168",
   "metadata": {
    "tags": []
   },
   "outputs": [
    {
     "data": {
      "text/plain": [
       "3.3333333333333335"
      ]
     },
     "execution_count": 3,
     "metadata": {},
     "output_type": "execute_result"
    }
   ],
   "source": [
    "#This will convert 200 minutes to hours by diving by 60\n",
    "\n",
    "200/60 \n"
   ]
  },
  {
   "cell_type": "markdown",
   "id": "42dff2df-a0cd-49c5-bae7-3181e57afd1e",
   "metadata": {},
   "source": [
    "## Author: \n",
    "Robert"
   ]
  },
  {
   "cell_type": "code",
   "execution_count": null,
   "id": "9e99f6bf-2809-485f-be47-7f888bcb9c37",
   "metadata": {},
   "outputs": [],
   "source": []
  }
 ],
 "metadata": {
  "kernelspec": {
   "display_name": "Python",
   "language": "python",
   "name": "conda-env-python-py"
  },
  "language_info": {
   "codemirror_mode": {
    "name": "ipython",
    "version": 3
   },
   "file_extension": ".py",
   "mimetype": "text/x-python",
   "name": "python",
   "nbconvert_exporter": "python",
   "pygments_lexer": "ipython3",
   "version": "3.7.12"
  }
 },
 "nbformat": 4,
 "nbformat_minor": 5
}
